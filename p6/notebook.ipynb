{
 "cells": [
  {
   "cell_type": "code",
   "execution_count": 1,
   "metadata": {},
   "outputs": [],
   "source": [
    "import itertools as it\n",
    "import pickle\n",
    "\n",
    "import matplotlib.pyplot as plt\n",
    "import numpy as np\n",
    "import pandas as pd\n",
    "import seaborn as sns\n",
    "from sklearn.compose import ColumnTransformer, make_column_transformer\n",
    "from sklearn.ensemble import GradientBoostingClassifier, RandomForestClassifier\n",
    "from sklearn.linear_model import LogisticRegression\n",
    "from sklearn.metrics import accuracy_score, f1_score\n",
    "from sklearn.model_selection import GridSearchCV\n",
    "from sklearn.pipeline import Pipeline\n",
    "from sklearn.preprocessing import (\n",
    "    LabelEncoder,\n",
    "    OneHotEncoder,\n",
    "    OrdinalEncoder,\n",
    "    StandardScaler,\n",
    ")\n",
    "from sklearn.svm import SVC"
   ]
  },
  {
   "cell_type": "markdown",
   "metadata": {},
   "source": [
    "### Carregamento dos dados"
   ]
  },
  {
   "cell_type": "code",
   "execution_count": 3,
   "metadata": {},
   "outputs": [],
   "source": [
    "# Características\n",
    "df_sociais = pd.read_csv(\"data/trabalho5_dados_sociais_4.csv\")\n",
    "df_modulo1 = pd.read_csv(\"data/trabalho5_dados_modulo1_4.csv\")\n",
    "df_modulo2 = pd.read_csv(\"data/trabalho5_dados_ateh_modulo2_4.csv\")"
   ]
  },
  {
   "cell_type": "markdown",
   "metadata": {},
   "source": [
    "### Análise exploratória"
   ]
  },
  {
   "cell_type": "markdown",
   "metadata": {},
   "source": [
    "#### Relações entre características"
   ]
  },
  {
   "cell_type": "code",
   "execution_count": null,
   "metadata": {},
   "outputs": [],
   "source": [
    "# TODO"
   ]
  },
  {
   "cell_type": "markdown",
   "metadata": {},
   "source": [
    "#### Relações entre características e rótulos"
   ]
  },
  {
   "cell_type": "code",
   "execution_count": null,
   "metadata": {},
   "outputs": [],
   "source": [
    "# TODO"
   ]
  },
  {
   "cell_type": "markdown",
   "metadata": {},
   "source": [
    "### Pré-processamento"
   ]
  },
  {
   "cell_type": "code",
   "execution_count": null,
   "metadata": {},
   "outputs": [],
   "source": [
    "# Rótulos\n",
    "y = LabelEncoder().fit([\"Não\", \"Sim\"]).transform(df_modulo2[\"aprovado\"])\n",
    "df_sociais = df_sociais.drop([\"id\", \"aprovado\"], axis=1)\n",
    "df_modulo1 = df_modulo1.drop([\"id\", \"aprovado\"], axis=1)\n",
    "df_modulo2 = df_modulo2.drop([\"id\", \"aprovado\"], axis=1)"
   ]
  },
  {
   "cell_type": "code",
   "execution_count": null,
   "metadata": {},
   "outputs": [],
   "source": [
    "# Ordens das categorias\n",
    "sn_cat = [\"Não\", \"Sim\"]\n",
    "sexo_cat = [\"Feminino\", \"Masculino\"]\n",
    "escolaridade_cat = [\n",
    "    \"Ensino Médio Completo\",\n",
    "    \"Ensino Superior Incompleto\",\n",
    "    \"Ensino Superior Completo\",\n",
    "    \"Pós-graduação\",\n",
    "]\n",
    "materialdidatico_cat = [\"Adequado\", \"Muito adequado\"]\n",
    "prazoatividades_cat = [\n",
    "    \"Pouquíssimo flexível\",\n",
    "    \"Pouco flexível\",\n",
    "    \"Flexível\",\n",
    "    \"Muito flexível\",\n",
    "]\n",
    "interacaopares_cat = [\"Importante\", \"Muito importante\"]\n",
    "organizacaocurso_cat = [\"Organizado\", \"Muito organizado\"]\n",
    "import_ajud_tutor_cat = [\"Às vezes\", \"Sempre\"]\n",
    "autoavaliacao_cat = [\n",
    "    \"Não, não considero\",\n",
    "    \"Sim, considero, porém, poderia estar me esforçando mais\",\n",
    "    \"Sim, considero\",\n",
    "]\n",
    "pp_cat = [\n",
    "    \"Discordo totalmente\",\n",
    "    \"Discordo\",\n",
    "    \"Nem discordo, nem concordo\",\n",
    "    \"Concordo\",\n",
    "    \"Concordo totalmente\",\n",
    "]"
   ]
  },
  {
   "cell_type": "code",
   "execution_count": null,
   "metadata": {},
   "outputs": [],
   "source": [
    "# Variáveis ordinais\n",
    "cols_ord = [\n",
    "    \"escolaridade\",\n",
    "    \"materialdidatico\",\n",
    "    \"prazoatividades\",\n",
    "    \"interacaopares\",\n",
    "    \"import.ajud.tutor\",\n",
    "    \"autoavaliacao.x\",\n",
    "] + [f\"pp{n + 1:03}\" for n in range(37)]\n",
    "cats_ord = [\n",
    "    escolaridade_cat,\n",
    "    materialdidatico_cat,\n",
    "    prazoatividades_cat,\n",
    "    interacaopares_cat,\n",
    "    import_ajud_tutor_cat,\n",
    "    autoavaliacao_cat,\n",
    "] + [pp_cat] * 37\n",
    "\n",
    "# Variáveis nominais\n",
    "cols_nom = list(set(df_sociais.select_dtypes(object).columns) - set(cols_ord))\n",
    "\n",
    "# Variáveis numéricas\n",
    "cols_num = [\"idade\", \"tempodeservico\"]"
   ]
  },
  {
   "cell_type": "code",
   "execution_count": null,
   "metadata": {},
   "outputs": [],
   "source": []
  }
 ],
 "metadata": {
  "interpreter": {
   "hash": "c790b6eca2cff74a0fee1fdb02e8ff00847e34f37ce710d1cac69b6dcbe2045e"
  },
  "kernelspec": {
   "display_name": "Python 3.9.7 ('data-science')",
   "language": "python",
   "name": "python3"
  },
  "language_info": {
   "codemirror_mode": {
    "name": "ipython",
    "version": 3
   },
   "file_extension": ".py",
   "mimetype": "text/x-python",
   "name": "python",
   "nbconvert_exporter": "python",
   "pygments_lexer": "ipython3",
   "version": "3.9.7"
  },
  "orig_nbformat": 4
 },
 "nbformat": 4,
 "nbformat_minor": 2
}
