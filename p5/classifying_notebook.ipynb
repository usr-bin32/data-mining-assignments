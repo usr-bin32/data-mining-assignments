{
 "cells": [
  {
   "cell_type": "markdown",
   "metadata": {},
   "source": [
    "# Mineração de Dados: Classificação\n",
    "\n",
    "**Grupo**:\n",
    "\n",
    "- Gabriel Oliveira Moreira Faria\n",
    "- Vinícius Oliveira\n",
    "\n",
    "**Objetivo**:\n",
    "\n",
    "O objetivo deste trabalho é criar classificadores que buscam prever a aprovação (ou reprovação) de discentes que participaram de um curso online.\n",
    "Essas bases de dados apresentam características de pessoas que participaram do curso online \"Prevenção do uso de drogas\".\n",
    "\n",
    "\n",
    "Os dados estão disponíveis na pasta do drive compartilhada aqui e são formados por 3 arquivos:\n",
    "\"trabalho5_dados_sociais_ID.csv\" - dados sócio-econômicos e de perguntas iniciais respondidas pelos participantes,\n",
    "\"trabalho5_dados_modulo1_ID.csv\" - dados de acesso ao sistema de ensino durante as atividades referentes ao primeiro módulo do curso, e\n",
    "\"trabalho5_dados_ateh_modulo2_ID.csv\" - dados de acesso ao sistema de ensino para as atividades até o segundo módulo do curso.\n",
    "\n",
    "\n",
    "Nesse trabalho geramos um modelo para cada um das 3 situações a seguir:\n",
    "1) um modelo que considera apenas as características sócio-econômicos e de perguntas iniciais;\n",
    "2) um modelo que considera apenas as características sócio-econômicos e de perguntas iniciais, e de acesso considerando o primeiro módulo do curso; e\n",
    "3) um modelo que considera todos os dados disponíveis.\n",
    "Para cada uma das 3 situações apresentadas, deve-se gerar ao menos 2 modelos de tipos distintos.\n",
    "\n",
    "**Com a importância de analisar os parâmetros que fornecemos para os modelos**"
   ]
  },
  {
   "cell_type": "code",
   "execution_count": 2,
   "metadata": {},
   "outputs": [],
   "source": [
    "import itertools as it\n",
    "import pickle\n",
    "\n",
    "import matplotlib.pyplot as plt\n",
    "import numpy as np\n",
    "import pandas as pd\n",
    "import pyclustertend\n",
    "import seaborn as sns\n",
    "from sklearn.base import BaseEstimator, TransformerMixin\n",
    "from sklearn.cluster import DBSCAN, OPTICS, AgglomerativeClustering, KMeans\n",
    "from sklearn.decomposition import PCA\n",
    "from sklearn.metrics import silhouette_score\n",
    "from sklearn.model_selection import GridSearchCV\n",
    "from sklearn.neighbors import NearestCentroid\n",
    "from sklearn.pipeline import Pipeline\n",
    "from sklearn.preprocessing import scale"
   ]
  },
  {
   "cell_type": "markdown",
   "metadata": {},
   "source": [
    "## Leitura dos dados e Análise exploratória\n",
    "\n",
    "Primeiro, carregaremos os dados e analisaremos as características sócio-econômicas, perguntas e dados do sistem de ensino providos a partir da base de dados.\n"
   ]
  },
  {
   "cell_type": "code",
   "execution_count": 3,
   "metadata": {},
   "outputs": [
    {
     "name": "stdout",
     "output_type": "stream",
     "text": [
      "<class 'pandas.core.frame.DataFrame'>\n",
      "RangeIndex: 1000 entries, 0 to 999\n",
      "Data columns (total 80 columns):\n",
      " #   Column                                                                          Non-Null Count  Dtype \n",
      "---  ------                                                                          --------------  ----- \n",
      " 0   id                                                                              1000 non-null   int64 \n",
      " 1   idade                                                                           1000 non-null   int64 \n",
      " 2   sexo                                                                            1000 non-null   object\n",
      " 3   escolaridade                                                                    1000 non-null   object\n",
      " 4   estadocivil                                                                     1000 non-null   object\n",
      " 5   ocupacao                                                                        1000 non-null   object\n",
      " 6   tempodeservico                                                                  1000 non-null   int64 \n",
      " 7   religiao                                                                        1000 non-null   object\n",
      " 8   contatoanterior                                                                 1000 non-null   object\n",
      " 9   lidadiretamente                                                                 1000 non-null   object\n",
      " 10  lida.onde                                                                       1000 non-null   object\n",
      " 11  materialdidatico                                                                1000 non-null   object\n",
      " 12  prazoatividades                                                                 1000 non-null   object\n",
      " 13  interacaopares                                                                  1000 non-null   object\n",
      " 14  organizacaocurso                                                                1000 non-null   object\n",
      " 15  import.ajud.tutor                                                               1000 non-null   object\n",
      " 16  autoavaliacao.x                                                                 1000 non-null   object\n",
      " 17  part.outrocurso                                                                 1000 non-null   object\n",
      " 18  pp001                                                                           1000 non-null   object\n",
      " 19  pp002                                                                           1000 non-null   object\n",
      " 20  pp003                                                                           1000 non-null   object\n",
      " 21  pp004                                                                           1000 non-null   object\n",
      " 22  pp005                                                                           1000 non-null   object\n",
      " 23  pp006                                                                           1000 non-null   object\n",
      " 24  pp007                                                                           1000 non-null   object\n",
      " 25  pp008                                                                           1000 non-null   object\n",
      " 26  pp009                                                                           1000 non-null   object\n",
      " 27  pp010                                                                           1000 non-null   object\n",
      " 28  pp011                                                                           1000 non-null   object\n",
      " 29  pp012                                                                           1000 non-null   object\n",
      " 30  pp013                                                                           1000 non-null   object\n",
      " 31  pp014                                                                           1000 non-null   object\n",
      " 32  pp015                                                                           1000 non-null   object\n",
      " 33  pp016                                                                           1000 non-null   object\n",
      " 34  pp017                                                                           1000 non-null   object\n",
      " 35  pp018                                                                           1000 non-null   object\n",
      " 36  pp019                                                                           1000 non-null   object\n",
      " 37  pp020                                                                           1000 non-null   object\n",
      " 38  pp021                                                                           1000 non-null   object\n",
      " 39  pp022                                                                           1000 non-null   object\n",
      " 40  pp023                                                                           1000 non-null   object\n",
      " 41  pp024                                                                           1000 non-null   object\n",
      " 42  pp025                                                                           1000 non-null   object\n",
      " 43  pp026                                                                           1000 non-null   object\n",
      " 44  pp027                                                                           1000 non-null   object\n",
      " 45  pp028                                                                           1000 non-null   object\n",
      " 46  pp029                                                                           1000 non-null   object\n",
      " 47  pp030                                                                           1000 non-null   object\n",
      " 48  pp031                                                                           1000 non-null   object\n",
      " 49  pp032                                                                           1000 non-null   object\n",
      " 50  pp033                                                                           1000 non-null   object\n",
      " 51  pp034                                                                           1000 non-null   object\n",
      " 52  pp035                                                                           1000 non-null   object\n",
      " 53  pp036                                                                           1000 non-null   object\n",
      " 54  pp037                                                                           1000 non-null   object\n",
      " 55  aprovado                                                                        1000 non-null   object\n",
      " 56  Identificação pessoal com o tema (motivopart)                                   1000 non-null   int64 \n",
      " 57  Identificação profissional com o tema (motivopart)                              1000 non-null   int64 \n",
      " 58  Para aquisição de conhecimento na área (motivopart)                             1000 non-null   int64 \n",
      " 59  Pelo fato de o curso ser gratuito (motivopart)                                  1000 non-null   int64 \n",
      " 60  Pelo fato de o curso estar vinculado à Universidade (motivopart)                1000 non-null   int64 \n",
      " 61  Por ser um curso à distância (motivopart)                                       1000 non-null   int64 \n",
      " 62  Por ser uma oportunidade de formação continuada (motivopart)                    1000 non-null   int64 \n",
      " 63  Ausência da família (barreiras)                                                 1000 non-null   int64 \n",
      " 64  Pouca comunicação com os pais (barreiras)                                       1000 non-null   int64 \n",
      " 65  Uso de substâncias por familiares (barreiras)                                   1000 non-null   int64 \n",
      " 66  Presença de drogas ilícitas no ambiente escolar (barreiras)                     1000 non-null   int64 \n",
      " 67  Proximidade da rede de distribuição de drogas (barreiras)                       1000 non-null   int64 \n",
      " 68  Ausência de limites dos alunos (barreiras)                                      1000 non-null   int64 \n",
      " 69  Ausência de colaboração da equipe escolar (barreiras)                           1000 non-null   int64 \n",
      " 70  Ausência de regras no ambiente escolar (barreiras)                              1000 non-null   int64 \n",
      " 71  Possuir alunos interessados na temática (facilitadores)                         1000 non-null   int64 \n",
      " 72  Presença de uma equipe para trabalhar a temática (facilitadores)                1000 non-null   int64 \n",
      " 73  Estímulo aos alunos (facilitadores)                                             1000 non-null   int64 \n",
      " 74  Desenvolvimento de projetos na escola (facilitadores)                           1000 non-null   int64 \n",
      " 75  Apoio aos projetos em desenvolvimento (facilitadores)                           1000 non-null   int64 \n",
      " 76  Presença de regras no ambiente escolar (facilitadores)                          1000 non-null   int64 \n",
      " 77  Promoção de compromisso e confiança (facilitadores)                             1000 non-null   int64 \n",
      " 78  Valorização do ambiente escolar (facilitadores)                                 1000 non-null   int64 \n",
      " 79  Participação da comunidade e dos pais no trabalho de prevenção (facilitadores)  1000 non-null   int64 \n",
      "dtypes: int64(27), object(53)\n",
      "memory usage: 625.1+ KB\n"
     ]
    }
   ],
   "source": [
    "df = pd.read_csv(\"data/trabalho5_dados_sociais_4.csv\")\n",
    "df.info()"
   ]
  },
  {
   "cell_type": "code",
   "execution_count": 4,
   "metadata": {},
   "outputs": [
    {
     "name": "stdout",
     "output_type": "stream",
     "text": [
      "<class 'pandas.core.frame.DataFrame'>\n",
      "RangeIndex: 1000 entries, 0 to 999\n",
      "Data columns (total 11 columns):\n",
      " #   Column      Non-Null Count  Dtype \n",
      "---  ------      --------------  ----- \n",
      " 0   id          1000 non-null   int64 \n",
      " 1   quesm1      1000 non-null   int64 \n",
      " 2   quesm1r     1000 non-null   int64 \n",
      " 3   forum1      1000 non-null   int64 \n",
      " 4   forum2      1000 non-null   int64 \n",
      " 5   forum3      1000 non-null   int64 \n",
      " 6   forum4      1000 non-null   int64 \n",
      " 7   ativcolm1   1000 non-null   int64 \n",
      " 8   ativcolm1r  1000 non-null   int64 \n",
      " 9   forum1r     1000 non-null   int64 \n",
      " 10  aprovado    1000 non-null   object\n",
      "dtypes: int64(10), object(1)\n",
      "memory usage: 86.1+ KB\n"
     ]
    }
   ],
   "source": [
    "df = pd.read_csv(\"data/trabalho5_dados_modulo1_4.csv\")\n",
    "df.info()"
   ]
  },
  {
   "cell_type": "code",
   "execution_count": 5,
   "metadata": {},
   "outputs": [
    {
     "name": "stdout",
     "output_type": "stream",
     "text": [
      "<class 'pandas.core.frame.DataFrame'>\n",
      "RangeIndex: 1000 entries, 0 to 999\n",
      "Data columns (total 20 columns):\n",
      " #   Column      Non-Null Count  Dtype \n",
      "---  ------      --------------  ----- \n",
      " 0   id          1000 non-null   int64 \n",
      " 1   quesm2      1000 non-null   int64 \n",
      " 2   ativcolm2   1000 non-null   int64 \n",
      " 3   forum5      1000 non-null   int64 \n",
      " 4   forum6      1000 non-null   int64 \n",
      " 5   forum7      1000 non-null   int64 \n",
      " 6   ativcolm2r  1000 non-null   int64 \n",
      " 7   quesm2r     1000 non-null   int64 \n",
      " 8   forum8      1000 non-null   int64 \n",
      " 9   forum2r     1000 non-null   int64 \n",
      " 10  aprovado    1000 non-null   object\n",
      " 11  quesm1      1000 non-null   int64 \n",
      " 12  quesm1r     1000 non-null   int64 \n",
      " 13  forum1      1000 non-null   int64 \n",
      " 14  forum2      1000 non-null   int64 \n",
      " 15  forum3      1000 non-null   int64 \n",
      " 16  forum4      1000 non-null   int64 \n",
      " 17  ativcolm1   1000 non-null   int64 \n",
      " 18  ativcolm1r  1000 non-null   int64 \n",
      " 19  forum1r     1000 non-null   int64 \n",
      "dtypes: int64(19), object(1)\n",
      "memory usage: 156.4+ KB\n"
     ]
    }
   ],
   "source": [
    "df = pd.read_csv(\"data/trabalho5_dados_ateh_modulo2_4.csv\")\n",
    "df.info()"
   ]
  },
  {
   "cell_type": "code",
   "execution_count": null,
   "metadata": {},
   "outputs": [],
   "source": []
  },
  {
   "cell_type": "code",
   "execution_count": null,
   "metadata": {},
   "outputs": [],
   "source": []
  },
  {
   "cell_type": "code",
   "execution_count": null,
   "metadata": {},
   "outputs": [],
   "source": []
  },
  {
   "cell_type": "code",
   "execution_count": null,
   "metadata": {},
   "outputs": [],
   "source": []
  }
 ],
 "metadata": {
  "interpreter": {
   "hash": "c790b6eca2cff74a0fee1fdb02e8ff00847e34f37ce710d1cac69b6dcbe2045e"
  },
  "kernelspec": {
   "display_name": "Python 3.9.7 64-bit ('data-science': conda)",
   "language": "python",
   "name": "python3"
  },
  "language_info": {
   "codemirror_mode": {
    "name": "ipython",
    "version": 3
   },
   "file_extension": ".py",
   "mimetype": "text/x-python",
   "name": "python",
   "nbconvert_exporter": "python",
   "pygments_lexer": "ipython3",
   "version": "3.9.1"
  },
  "orig_nbformat": 4
 },
 "nbformat": 4,
 "nbformat_minor": 2
}
